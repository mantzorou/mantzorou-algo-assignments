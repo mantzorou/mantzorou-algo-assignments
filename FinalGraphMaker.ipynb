{
 "cells": [
  {
   "cell_type": "code",
   "execution_count": 85,
   "metadata": {},
   "outputs": [
    {
     "name": "stdout",
     "output_type": "stream",
     "text": [
      "{(-2, 1): [(-1, 1)],\n",
      " (-1, 1): [(0, 1), (-1, 2), (-2, 1)],\n",
      " (-1, 2): [(0, 2), (-1, 1)],\n",
      " (0, 0): [(1, 0), (0, 1)],\n",
      " (0, 1): [(1, 1), (0, 2), (-1, 1), (0, 0)],\n",
      " (0, 2): [(1, 2), (0, 3), (-1, 2), (0, 1)],\n",
      " (0, 3): [(0, 2)],\n",
      " (1, 0): [(2, 0), (1, 1), (0, 0)],\n",
      " (1, 1): [(2, 1), (1, 2), (0, 1), (1, 0)],\n",
      " (1, 2): [(0, 2), (1, 1)],\n",
      " (2, 0): [(3, 0), (2, 1), (1, 0)],\n",
      " (2, 1): [(1, 1), (2, 0)],\n",
      " (3, 0): [(2, 0)]}\n"
     ]
    }
   ],
   "source": [
    "import pprint\n",
    "n=4\n",
    "adjList_dict = {}\n",
    "\n",
    "##find the keys of the dictionary according to n\n",
    "if (n==1):\n",
    "    adjList_dict.update( {(x,y) : [(0,0)]} )\n",
    "else:\n",
    "    for x in range(-n+2,n,1):\n",
    "        x_distance_from0=abs(0-x)\n",
    "        for y in range(0,n,1):\n",
    "            y=y-x_distance_from0\n",
    "            if (y>0 or (y==0 and x>=0)):\n",
    "                adjList_dict.update( {(x,y) : []} )\n",
    "\n",
    "##find the value (neigbours) of each key\n",
    "neighbours=[]\n",
    "mykeys=list(adjList_dict.keys())\n",
    "\n",
    "for key in range(len(mykeys)):\n",
    "    x=((mykeys[key])[0])\n",
    "    y=((mykeys[key])[1])\n",
    "    \n",
    "    eastNeighbour=(x+1,y)\n",
    "    neighbours.append(eastNeighbour)\n",
    "    northNeighbour=(x,y+1)\n",
    "    neighbours.append(northNeighbour)\n",
    "    westNeighbour=(x-1, y)\n",
    "    neighbours.append(westNeighbour)\n",
    "    southNeighbour=(x,y-1)\n",
    "    neighbours.append(southNeighbour)\n",
    "        \n",
    "    ##check if each neighbour tuple satisfies the conditions\n",
    "    for i in range(0,4,1):\n",
    "        \n",
    "        ##it must stay above the bold line\n",
    "        condition1=False\n",
    "        condition1=( ((neighbours[i])[1])>0 or ( ((neighbours[i])[1])==0 and ((neighbours[i])[0])>=0) ) \n",
    "        \n",
    "        ##it must belong to the keys\n",
    "        condition2=False\n",
    "        if (neighbours[i]) in mykeys: condition2=True  \n",
    "            \n",
    "        if condition1==True:\n",
    "            if condition2==True:\n",
    "                adjList_dict[(x,y)].append(neighbours[i])\n",
    "    neighbours.clear()\n",
    "pprint.pprint(adjList_dict)"
   ]
  },
  {
   "cell_type": "code",
   "execution_count": null,
   "metadata": {},
   "outputs": [],
   "source": []
  },
  {
   "cell_type": "code",
   "execution_count": null,
   "metadata": {},
   "outputs": [],
   "source": []
  }
 ],
 "metadata": {
  "kernelspec": {
   "display_name": "Python 3",
   "language": "python",
   "name": "python3"
  },
  "language_info": {
   "codemirror_mode": {
    "name": "ipython",
    "version": 3
   },
   "file_extension": ".py",
   "mimetype": "text/x-python",
   "name": "python",
   "nbconvert_exporter": "python",
   "pygments_lexer": "ipython3",
   "version": "3.7.4"
  }
 },
 "nbformat": 4,
 "nbformat_minor": 4
}
